{
 "cells": [
  {
   "cell_type": "code",
   "execution_count": 1,
   "id": "fb08d1ca-f4bd-45c1-9f26-ce7039e9d607",
   "metadata": {},
   "outputs": [],
   "source": [
    "# What does the dict.get(key, default) method do?\n",
    "\n",
    "# How do you merge two dictionaries in Python?\n",
    "\n",
    "# How can you iterate over a dictionary’s keys and values?\n",
    "\n",
    "# How do you get a list of all the keys in a dictionary?\n",
    "\n",
    "# How do you get a list of all the values in a dictionary?\n",
    "\n",
    "# How do you get a list of all key-value pairs in a dictionary?\n",
    "\n",
    "# How do you remove and return a key-value pair from a dictionary?\n",
    "\n",
    "# What is the difference between pop() and popitem() in a dictionary?"
   ]
  },
  {
   "cell_type": "code",
   "execution_count": 5,
   "id": "8f15f64d-632b-432d-8b45-7eda8047318c",
   "metadata": {},
   "outputs": [
    {
     "data": {
      "text/plain": [
       "23"
      ]
     },
     "execution_count": 5,
     "metadata": {},
     "output_type": "execute_result"
    }
   ],
   "source": [
    "# What does the dict.get(key, default) method do?\n",
    "dict1 = {'Pranav':23,'Hemanth':25,'Himanhu':27}\n",
    "dict1.get('Himanhu')   # dict.get(key) method find value of the key \n",
    "dict1.get('Pranav')"
   ]
  },
  {
   "cell_type": "code",
   "execution_count": 11,
   "id": "b089453b-5793-4c2b-8480-a2ed496f7fa9",
   "metadata": {},
   "outputs": [
    {
     "data": {
      "text/plain": [
       "{'Pranav': 23,\n",
       " 'Hemanth': 25,\n",
       " 'Himanhu': 27,\n",
       " 'Apple': 10,\n",
       " 'Banana': 20,\n",
       " 'Cherry': 30}"
      ]
     },
     "execution_count": 11,
     "metadata": {},
     "output_type": "execute_result"
    }
   ],
   "source": [
    "# How do you merge two dictionaries in Python?\n",
    "dict1 = {'Pranav':23,'Hemanth':25,'Himanhu':27}\n",
    "dict2 = {'Apple':10,'Banana':20,'Cherry':30}\n",
    "dict1.update(dict2)\n",
    "dict1"
   ]
  },
  {
   "cell_type": "code",
   "execution_count": 8,
   "id": "bb98f0bd-d5b8-41e1-9856-6162f412d79b",
   "metadata": {},
   "outputs": [
    {
     "data": {
      "text/plain": [
       "['__class__',\n",
       " '__class_getitem__',\n",
       " '__contains__',\n",
       " '__delattr__',\n",
       " '__delitem__',\n",
       " '__dir__',\n",
       " '__doc__',\n",
       " '__eq__',\n",
       " '__format__',\n",
       " '__ge__',\n",
       " '__getattribute__',\n",
       " '__getitem__',\n",
       " '__getstate__',\n",
       " '__gt__',\n",
       " '__hash__',\n",
       " '__init__',\n",
       " '__init_subclass__',\n",
       " '__ior__',\n",
       " '__iter__',\n",
       " '__le__',\n",
       " '__len__',\n",
       " '__lt__',\n",
       " '__ne__',\n",
       " '__new__',\n",
       " '__or__',\n",
       " '__reduce__',\n",
       " '__reduce_ex__',\n",
       " '__repr__',\n",
       " '__reversed__',\n",
       " '__ror__',\n",
       " '__setattr__',\n",
       " '__setitem__',\n",
       " '__sizeof__',\n",
       " '__str__',\n",
       " '__subclasshook__',\n",
       " 'clear',\n",
       " 'copy',\n",
       " 'fromkeys',\n",
       " 'get',\n",
       " 'items',\n",
       " 'keys',\n",
       " 'pop',\n",
       " 'popitem',\n",
       " 'setdefault',\n",
       " 'update',\n",
       " 'values']"
      ]
     },
     "execution_count": 8,
     "metadata": {},
     "output_type": "execute_result"
    }
   ],
   "source": []
  },
  {
   "cell_type": "code",
   "execution_count": 16,
   "id": "2c9ef37b-5f76-4c5c-b053-2bc3c62d44f8",
   "metadata": {},
   "outputs": [
    {
     "name": "stdout",
     "output_type": "stream",
     "text": [
      "Pranav\n",
      "Pranav 23\n",
      "Hemanth\n",
      "Hemanth 25\n",
      "Himanhu\n",
      "Himanhu 27\n"
     ]
    }
   ],
   "source": [
    "# How can you iterate over a dictionary’s keys and values?\n",
    "dict1 = {'Pranav':23,'Hemanth':25,'Himanhu':27}\n",
    "for i in dict1:\n",
    "    print(i)\n",
    "    print(i,dict1[i])"
   ]
  },
  {
   "cell_type": "code",
   "execution_count": 18,
   "id": "297fdbd5-ba40-43c0-857a-635f86c57e66",
   "metadata": {},
   "outputs": [
    {
     "name": "stdout",
     "output_type": "stream",
     "text": [
      "Pranav\n",
      "Hemanth\n",
      "Himanhu\n"
     ]
    }
   ],
   "source": [
    "# How do you get a list of all the keys in a dictionary?\n",
    "dict1 = {'Pranav':23,'Hemanth':25,'Himanhu':27}\n",
    "for i in dict1:\n",
    "    print(i)"
   ]
  },
  {
   "cell_type": "code",
   "execution_count": 20,
   "id": "4e6b558d-41b9-4e58-8014-d3addcda8290",
   "metadata": {},
   "outputs": [
    {
     "data": {
      "text/plain": [
       "dict_keys(['Pranav', 'Hemanth', 'Himanhu'])"
      ]
     },
     "execution_count": 20,
     "metadata": {},
     "output_type": "execute_result"
    }
   ],
   "source": [
    "dict1 = {'Pranav':23,'Hemanth':25,'Himanhu':27}\n",
    "dict1.keys()"
   ]
  },
  {
   "cell_type": "code",
   "execution_count": 19,
   "id": "f2cdd217-bb42-49ea-b1b0-b54112fb128e",
   "metadata": {},
   "outputs": [
    {
     "name": "stdout",
     "output_type": "stream",
     "text": [
      "23\n",
      "25\n",
      "27\n"
     ]
    }
   ],
   "source": [
    "# How do you get a list of all the values in a dictionary?\n",
    "dict1 = {'Pranav':23,'Hemanth':25,'Himanhu':27}\n",
    "for i in dict1:\n",
    "    print(dict1[i])"
   ]
  },
  {
   "cell_type": "code",
   "execution_count": 21,
   "id": "95b64a45-720c-42f0-89fd-a6c4e7df807c",
   "metadata": {},
   "outputs": [
    {
     "data": {
      "text/plain": [
       "dict_values([23, 25, 27])"
      ]
     },
     "execution_count": 21,
     "metadata": {},
     "output_type": "execute_result"
    }
   ],
   "source": [
    "dict1 = {'Pranav':23,'Hemanth':25,'Himanhu':27}\n",
    "dict1.values()"
   ]
  },
  {
   "cell_type": "code",
   "execution_count": 23,
   "id": "d96a1e9d-f0d8-4831-b1c0-e457940e5238",
   "metadata": {},
   "outputs": [
    {
     "name": "stdout",
     "output_type": "stream",
     "text": [
      "Pranav 23\n",
      "Hemanth 25\n",
      "Himanhu 27\n"
     ]
    }
   ],
   "source": [
    "# How do you get a list of all key-value pairs in a dictionary?\n",
    "dict1 = {'Pranav':23,'Hemanth':25,'Himanhu':27}\n",
    "for i in dict1:\n",
    "    print(i,dict1[i])"
   ]
  },
  {
   "cell_type": "code",
   "execution_count": 24,
   "id": "05b2aba1-c5fd-4e88-9b52-23ff9b71dd20",
   "metadata": {},
   "outputs": [
    {
     "data": {
      "text/plain": [
       "dict_items([('Pranav', 23), ('Hemanth', 25), ('Himanhu', 27)])"
      ]
     },
     "execution_count": 24,
     "metadata": {},
     "output_type": "execute_result"
    }
   ],
   "source": [
    "dict1 = {'Pranav':23,'Hemanth':25,'Himanhu':27}\n",
    "dict1.items()"
   ]
  },
  {
   "cell_type": "code",
   "execution_count": 39,
   "id": "5f542979-c586-499d-a1b9-08595458b0e9",
   "metadata": {},
   "outputs": [
    {
     "name": "stdout",
     "output_type": "stream",
     "text": [
      "25\n"
     ]
    },
    {
     "data": {
      "text/plain": [
       "{'Pranav': 23, 'Himanhu': 27}"
      ]
     },
     "execution_count": 39,
     "metadata": {},
     "output_type": "execute_result"
    }
   ],
   "source": [
    "# How do you remove and return a key-value pair from a dictionary?\n",
    "dict1 = {'Pranav':23,'Hemanth':25,'Himanhu':27}\n",
    "print(dict1.pop('Hemanth'))\n",
    "dict1"
   ]
  },
  {
   "cell_type": "code",
   "execution_count": 46,
   "id": "0fa9ef57-71f7-4299-9511-d6cdf65f34b3",
   "metadata": {},
   "outputs": [
    {
     "name": "stdout",
     "output_type": "stream",
     "text": [
      "21\n",
      "{'Pranav': 23, 'Hemanth': 25, 'Himanhu': 27, 'Bhadru': 24, 'Chacha': 30}\n"
     ]
    }
   ],
   "source": [
    "# What is the difference between pop() and popitem() in a dictionary?\n",
    "\n",
    "dict1 = {'Pranav':23,'Hemanth':25,'Himanhu':27,'Soumya':21,'Bhadru':24,'Chacha':30}\n",
    "##  pop method remove the keyword and return the value\n",
    "print(dict1.pop('Soumya')) \n",
    "print(dict1)\n"
   ]
  },
  {
   "cell_type": "code",
   "execution_count": 47,
   "id": "76595afd-6233-4663-ac95-405b5715b4d6",
   "metadata": {},
   "outputs": [
    {
     "data": {
      "text/plain": [
       "('Chacha', 30)"
      ]
     },
     "execution_count": 47,
     "metadata": {},
     "output_type": "execute_result"
    }
   ],
   "source": [
    "dict1 = {'Pranav':23,'Hemanth':25,'Himanhu':27,'Soumya':21,'Bhadru':24,'Chacha':30}\n",
    "dict1.popitem() # popitem() removes and returns the last inserted key-value pair (useful for LIFO operations)."
   ]
  },
  {
   "cell_type": "code",
   "execution_count": 48,
   "id": "154bf71a-c634-4a7c-b79e-f512d47626bd",
   "metadata": {},
   "outputs": [
    {
     "data": {
      "text/plain": [
       "{'Pranav': 23, 'Hemanth': 25, 'Himanhu': 27, 'Soumya': 21, 'Bhadru': 24}"
      ]
     },
     "execution_count": 48,
     "metadata": {},
     "output_type": "execute_result"
    }
   ],
   "source": [
    "dict1"
   ]
  },
  {
   "cell_type": "code",
   "execution_count": 49,
   "id": "73e1478c-e125-49a0-925a-3b29a31fffa2",
   "metadata": {},
   "outputs": [],
   "source": [
    "# How do you sort a dictionary by keys?\n",
    "\n",
    "# How do you sort a dictionary by values?\n",
    "\n",
    "# How do you count the occurrences of elements in a list using a dictionary?\n",
    "\n",
    "# What is a dictionary comprehension? Provide an example.\n",
    "\n",
    "# How do you invert a dictionary (swap keys and values)?\n",
    "\n",
    "# How do you create a nested dictionary and access its elements?\n",
    "\n",
    "# What is the defaultdict from the collections module, and how is it useful?\n",
    "\n",
    "# What is an OrderedDict, and how is it different from a regular dictionary?\n",
    "\n",
    "# How do you use Counter from the collections module to count occurrences?\n",
    "\n",
    "# How do you handle missing keys gracefully in a dictionary?"
   ]
  },
  {
   "cell_type": "code",
   "execution_count": 52,
   "id": "40e53c8e-9604-49ca-a945-05d8b74c66d6",
   "metadata": {},
   "outputs": [
    {
     "data": {
      "text/plain": [
       "['Bhadru', 'Chacha', 'Hemanth', 'Himanhu', 'Pranav', 'Soumya']"
      ]
     },
     "execution_count": 52,
     "metadata": {},
     "output_type": "execute_result"
    }
   ],
   "source": [
    "# How do you sort a dictionary by keys?\n",
    "dict1 = {'Pranav':23,'Hemanth':25,'Himanhu':27,'Soumya':21,'Bhadru':24,'Chacha':30}\n",
    "sorted(dict1)  # using sorted method we can sort all the keys of the dictonary "
   ]
  },
  {
   "cell_type": "code",
   "execution_count": 61,
   "id": "6137e172-10dd-442b-8184-8f9b5cc6a039",
   "metadata": {},
   "outputs": [
    {
     "name": "stdout",
     "output_type": "stream",
     "text": [
      "23\n",
      "25\n",
      "27\n",
      "21\n",
      "24\n",
      "30\n"
     ]
    }
   ],
   "source": [
    "# # How do you sort a dictionary by values?\n",
    "# dict1 = {'Pranav':23,'Hemanth':25,'Himanhu':27,'Soumya':21,'Bhadru':24,'Chacha':30}\n",
    "# for i in dict1:\n",
    "#     print(dict1[i])\n",
    "    "
   ]
  },
  {
   "cell_type": "code",
   "execution_count": 63,
   "id": "c08bb8da-8e50-455e-8c7b-8f9e0a58f138",
   "metadata": {},
   "outputs": [],
   "source": [
    "# What is a dictionary comprehension? Provide an example.\n",
    "names = ['piku','siku','chiku']\n",
    "age = [20,18,30]\n",
    "dict2  = {i:j for i,j in zip(names,age)}\n",
    "dict2"
   ]
  },
  {
   "cell_type": "code",
   "execution_count": null,
   "id": "bdfb4fc7-08fb-4967-8caa-9b7dcac73d99",
   "metadata": {},
   "outputs": [],
   "source": []
  }
 ],
 "metadata": {
  "kernelspec": {
   "display_name": "Python 3 (ipykernel)",
   "language": "python",
   "name": "python3"
  },
  "language_info": {
   "codemirror_mode": {
    "name": "ipython",
    "version": 3
   },
   "file_extension": ".py",
   "mimetype": "text/x-python",
   "name": "python",
   "nbconvert_exporter": "python",
   "pygments_lexer": "ipython3",
   "version": "3.12.7"
  }
 },
 "nbformat": 4,
 "nbformat_minor": 5
}
