{
 "cells": [
  {
   "cell_type": "code",
   "execution_count": 6,
   "id": "03e0246a-947e-44df-912f-37a9813eec41",
   "metadata": {},
   "outputs": [
    {
     "name": "stdout",
     "output_type": "stream",
     "text": [
      "the index of \"a\" is:2\n",
      "the index of \"a\" is:6\n",
      "the index of \"a\" is:10\n"
     ]
    }
   ],
   "source": [
    "# wap a program find the indexes of 'a' in a given string \n",
    "# str = 'ola ola ola'\n",
    "\n",
    "str = 'ola ola ola'\n",
    "n = len(str)\n",
    "for i in range(n):\n",
    "    if str[i] == 'a':\n",
    "        print(f'the index of \"a\" is:{i}')"
   ]
  },
  {
   "cell_type": "code",
   "execution_count": 12,
   "id": "4a28df54-07dc-48b5-94f0-c0b7bec745ad",
   "metadata": {},
   "outputs": [
    {
     "name": "stdout",
     "output_type": "stream",
     "text": [
      "sum of all indexes of \"a\" is 18\n"
     ]
    }
   ],
   "source": [
    "# sum of all indexes of 'a' in a given string \n",
    "# str = 'ola ola ola'\n",
    "str = 'ola ola ola'\n",
    "n = len(str)\n",
    "summ = 0\n",
    "for i in range(n):\n",
    "    if str[i] == 'a':\n",
    "        summ = summ+i\n",
    "print(f'sum of all indexes of \"a\" is {summ}')"
   ]
  },
  {
   "cell_type": "code",
   "execution_count": 16,
   "id": "079aed3f-db2c-48b4-aff1-2e5ed9cd81f1",
   "metadata": {},
   "outputs": [
    {
     "name": "stdout",
     "output_type": "stream",
     "text": [
      "3\n"
     ]
    }
   ],
   "source": [
    "# find the number of 'a'in thre given string\n",
    "# str = 'ola ola ola'\n",
    "str2 = 'ola ola ola'\n",
    "count=0\n",
    "for i in str2:\n",
    "    if i == 'a':\n",
    "        count = count + 1\n",
    "\n",
    "print(count)\n",
    "    "
   ]
  },
  {
   "cell_type": "code",
   "execution_count": 28,
   "id": "959a64d1-d33d-41ec-95af-e4ad0945aaab",
   "metadata": {},
   "outputs": [
    {
     "name": "stdout",
     "output_type": "stream",
     "text": [
      "i i o a e o u "
     ]
    }
   ],
   "source": [
    "# find the vowels  in a given string\n",
    "# str = 'hii how are you'\n",
    "str3 = 'hai how are you'\n",
    "s2='aeiou'\n",
    "for i in str3:\n",
    "    if i in s2:\n",
    "        print(i,end=' ')"
   ]
  },
  {
   "cell_type": "code",
   "execution_count": 7,
   "id": "5d470bd0-8e0b-4374-93b0-52c3a6ac30b1",
   "metadata": {},
   "outputs": [
    {
     "name": "stdout",
     "output_type": "stream",
     "text": [
      "a i o e u "
     ]
    }
   ],
   "source": [
    "# Q8) write a progarm to find the vowels which are repaeting then print only\n",
    "#     one time\n",
    "#     example: helleo  \n",
    "#      e is coming two times but we want to print only one time\n",
    "\n",
    "str3 = 'hai how are you'\n",
    "s2='aeiou'\n",
    "s3 = ''\n",
    "for i  in str3:\n",
    "    if i in s2 and i not in s3:\n",
    "        print(i,end=' ')\n",
    "        s3=s3+i\n"
   ]
  },
  {
   "cell_type": "markdown",
   "id": "72e5de78-c4e8-4aa5-ab5e-2529d5653e98",
   "metadata": {},
   "source": [
    "**Slice**"
   ]
  },
  {
   "cell_type": "code",
   "execution_count": 43,
   "id": "5e97b8be-52f6-4b5e-a981-5eac94f7bd02",
   "metadata": {},
   "outputs": [],
   "source": [
    "str1 = 'pranaba kishor parija'"
   ]
  },
  {
   "cell_type": "code",
   "execution_count": 45,
   "id": "00af44c0-8579-4f5a-bafb-67ef96545ea8",
   "metadata": {},
   "outputs": [
    {
     "name": "stdout",
     "output_type": "stream",
     "text": [
      "pranaba kishor parija\n"
     ]
    }
   ],
   "source": [
    "print(str1)"
   ]
  },
  {
   "cell_type": "code",
   "execution_count": 47,
   "id": "c1506f42-78da-4ac0-a69e-715b91bac3fa",
   "metadata": {},
   "outputs": [
    {
     "data": {
      "text/plain": [
       "'pranaba kish'"
      ]
     },
     "execution_count": 47,
     "metadata": {},
     "output_type": "execute_result"
    }
   ],
   "source": [
    "str1[:12]"
   ]
  },
  {
   "cell_type": "code",
   "execution_count": 45,
   "id": "a4df4e94-3f4e-4099-940f-0ec281f7c389",
   "metadata": {},
   "outputs": [
    {
     "data": {
      "text/plain": [
       "21"
      ]
     },
     "execution_count": 45,
     "metadata": {},
     "output_type": "execute_result"
    }
   ],
   "source": [
    "len(str1)"
   ]
  },
  {
   "cell_type": "code",
   "execution_count": 71,
   "id": "b6437ac0-f9d0-4593-a507-5de08c230d0d",
   "metadata": {},
   "outputs": [
    {
     "name": "stdout",
     "output_type": "stream",
     "text": [
      "pranaba kishor parija\n"
     ]
    },
    {
     "data": {
      "text/plain": [
       "'ajirap rohsik abanar'"
      ]
     },
     "execution_count": 71,
     "metadata": {},
     "output_type": "execute_result"
    }
   ],
   "source": [
    "print(str1)\n",
    "str1[21:-21:-1]"
   ]
  },
  {
   "cell_type": "code",
   "execution_count": 73,
   "id": "9ba320e6-8c84-4edd-9dff-da35b6e4051b",
   "metadata": {},
   "outputs": [
    {
     "name": "stdout",
     "output_type": "stream",
     "text": [
      "pranaba kishor parija\n"
     ]
    },
    {
     "data": {
      "text/plain": [
       "'ajirap rohsik abanarp'"
      ]
     },
     "execution_count": 73,
     "metadata": {},
     "output_type": "execute_result"
    }
   ],
   "source": [
    "print(str1)\n",
    "str1[::-1]"
   ]
  },
  {
   "cell_type": "code",
   "execution_count": 77,
   "id": "61c8fe60-d58e-4b72-b710-1489d5fe1285",
   "metadata": {},
   "outputs": [
    {
     "data": {
      "text/plain": [
       "'pranaba kishor parija'"
      ]
     },
     "execution_count": 77,
     "metadata": {},
     "output_type": "execute_result"
    }
   ],
   "source": [
    "str1[:]"
   ]
  },
  {
   "cell_type": "code",
   "execution_count": 79,
   "id": "d246ddc6-872b-4377-bf8e-e2f26fc478da",
   "metadata": {},
   "outputs": [],
   "source": [
    "# method - methods are alled with an object like str.lower(),str.upper()\n",
    "# inbuilt function - it is predefined funtion  avialable in pyhton no need an object like print(),len()"
   ]
  },
  {
   "cell_type": "code",
   "execution_count": 81,
   "id": "5bb0eae6-4ba8-4fa5-a186-d13f1272c96e",
   "metadata": {},
   "outputs": [
    {
     "data": {
      "text/plain": [
       "'pranaba kishor parija'"
      ]
     },
     "execution_count": 81,
     "metadata": {},
     "output_type": "execute_result"
    }
   ],
   "source": [
    "str1.lower()"
   ]
  },
  {
   "cell_type": "code",
   "execution_count": 83,
   "id": "d710b1e9-35d3-4d71-885c-b5d59e0e6f83",
   "metadata": {},
   "outputs": [
    {
     "data": {
      "text/plain": [
       "'PRANABA KISHOR PARIJA'"
      ]
     },
     "execution_count": 83,
     "metadata": {},
     "output_type": "execute_result"
    }
   ],
   "source": [
    "str1.upper()"
   ]
  },
  {
   "cell_type": "code",
   "execution_count": 85,
   "id": "932ecaa6-c3c1-427e-a53d-fd22bd4382ed",
   "metadata": {},
   "outputs": [
    {
     "data": {
      "text/plain": [
       "['pranaba', 'kishor', 'parija']"
      ]
     },
     "execution_count": 85,
     "metadata": {},
     "output_type": "execute_result"
    }
   ],
   "source": [
    "str1.split()"
   ]
  },
  {
   "cell_type": "code",
   "execution_count": 87,
   "id": "db746acb-7de9-4f4f-9a59-4399ebea72a7",
   "metadata": {},
   "outputs": [
    {
     "data": {
      "text/plain": [
       "'Pranaba kishor parija'"
      ]
     },
     "execution_count": 87,
     "metadata": {},
     "output_type": "execute_result"
    }
   ],
   "source": [
    "str1.capitalize()"
   ]
  },
  {
   "cell_type": "code",
   "execution_count": 89,
   "id": "b689cda6-47fe-4333-b41d-479d9df74059",
   "metadata": {},
   "outputs": [
    {
     "data": {
      "text/plain": [
       "'Pranaba Kishor Parija'"
      ]
     },
     "execution_count": 89,
     "metadata": {},
     "output_type": "execute_result"
    }
   ],
   "source": [
    "str1.title()"
   ]
  },
  {
   "cell_type": "code",
   "execution_count": 99,
   "id": "504c0170-0335-4a2d-a062-6e54a6876d78",
   "metadata": {},
   "outputs": [
    {
     "data": {
      "text/plain": [
       "'PRANABA KISHOR PARIJA'"
      ]
     },
     "execution_count": 99,
     "metadata": {},
     "output_type": "execute_result"
    }
   ],
   "source": [
    "str1.casefold().upper()\n"
   ]
  },
  {
   "cell_type": "code",
   "execution_count": 101,
   "id": "636a013a-f722-4d00-86f8-872fa6913cd5",
   "metadata": {},
   "outputs": [],
   "source": [
    "str2 = 'Hii i am pranab'"
   ]
  },
  {
   "cell_type": "code",
   "execution_count": 103,
   "id": "ff27bd0b-1b5a-4ab5-95fc-1b9e6417ad25",
   "metadata": {},
   "outputs": [
    {
     "data": {
      "text/plain": [
       "'Hii i am pranab'"
      ]
     },
     "execution_count": 103,
     "metadata": {},
     "output_type": "execute_result"
    }
   ],
   "source": [
    "str2"
   ]
  },
  {
   "cell_type": "code",
   "execution_count": 105,
   "id": "cd616976-dafe-47c7-b266-8b48c88fb744",
   "metadata": {},
   "outputs": [
    {
     "data": {
      "text/plain": [
       "['__add__',\n",
       " '__class__',\n",
       " '__contains__',\n",
       " '__delattr__',\n",
       " '__dir__',\n",
       " '__doc__',\n",
       " '__eq__',\n",
       " '__format__',\n",
       " '__ge__',\n",
       " '__getattribute__',\n",
       " '__getitem__',\n",
       " '__getnewargs__',\n",
       " '__getstate__',\n",
       " '__gt__',\n",
       " '__hash__',\n",
       " '__init__',\n",
       " '__init_subclass__',\n",
       " '__iter__',\n",
       " '__le__',\n",
       " '__len__',\n",
       " '__lt__',\n",
       " '__mod__',\n",
       " '__mul__',\n",
       " '__ne__',\n",
       " '__new__',\n",
       " '__reduce__',\n",
       " '__reduce_ex__',\n",
       " '__repr__',\n",
       " '__rmod__',\n",
       " '__rmul__',\n",
       " '__setattr__',\n",
       " '__sizeof__',\n",
       " '__str__',\n",
       " '__subclasshook__',\n",
       " 'capitalize',\n",
       " 'casefold',\n",
       " 'center',\n",
       " 'count',\n",
       " 'encode',\n",
       " 'endswith',\n",
       " 'expandtabs',\n",
       " 'find',\n",
       " 'format',\n",
       " 'format_map',\n",
       " 'index',\n",
       " 'isalnum',\n",
       " 'isalpha',\n",
       " 'isascii',\n",
       " 'isdecimal',\n",
       " 'isdigit',\n",
       " 'isidentifier',\n",
       " 'islower',\n",
       " 'isnumeric',\n",
       " 'isprintable',\n",
       " 'isspace',\n",
       " 'istitle',\n",
       " 'isupper',\n",
       " 'join',\n",
       " 'ljust',\n",
       " 'lower',\n",
       " 'lstrip',\n",
       " 'maketrans',\n",
       " 'partition',\n",
       " 'removeprefix',\n",
       " 'removesuffix',\n",
       " 'replace',\n",
       " 'rfind',\n",
       " 'rindex',\n",
       " 'rjust',\n",
       " 'rpartition',\n",
       " 'rsplit',\n",
       " 'rstrip',\n",
       " 'split',\n",
       " 'splitlines',\n",
       " 'startswith',\n",
       " 'strip',\n",
       " 'swapcase',\n",
       " 'title',\n",
       " 'translate',\n",
       " 'upper',\n",
       " 'zfill']"
      ]
     },
     "execution_count": 105,
     "metadata": {},
     "output_type": "execute_result"
    }
   ],
   "source": [
    "dir(str2)"
   ]
  },
  {
   "cell_type": "code",
   "execution_count": 148,
   "id": "f59b3a09-187e-4666-9d69-70213c8387e7",
   "metadata": {},
   "outputs": [],
   "source": [
    "\n",
    "p = str2.center(36,'#')"
   ]
  },
  {
   "cell_type": "code",
   "execution_count": 150,
   "id": "542079be-60fb-4307-b226-8ec680ac0985",
   "metadata": {},
   "outputs": [
    {
     "data": {
      "text/plain": [
       "'##########Hii i am pranab###########'"
      ]
     },
     "execution_count": 150,
     "metadata": {},
     "output_type": "execute_result"
    }
   ],
   "source": [
    "p"
   ]
  },
  {
   "cell_type": "code",
   "execution_count": 181,
   "id": "760293f2-a964-4769-90fb-8029ceb294f2",
   "metadata": {},
   "outputs": [],
   "source": [
    "a = '******    pranab    ######'\n",
    "b= '#########python'\n",
    "c = 'himanu*****#####***'"
   ]
  },
  {
   "cell_type": "code",
   "execution_count": 196,
   "id": "e290be6e-8512-4da4-bcf4-e5d7c04031ad",
   "metadata": {},
   "outputs": [
    {
     "data": {
      "text/plain": [
       "'pranab'"
      ]
     },
     "execution_count": 196,
     "metadata": {},
     "output_type": "execute_result"
    }
   ],
   "source": [
    "a.lstrip('*').rstrip('#').strip()"
   ]
  },
  {
   "cell_type": "code",
   "execution_count": 178,
   "id": "03ce71b7-b42f-4697-9b6e-a7ecf60d768f",
   "metadata": {},
   "outputs": [],
   "source": [
    "# a.rstrip('#').lstrip('*').strip()"
   ]
  },
  {
   "cell_type": "code",
   "execution_count": 202,
   "id": "0f75e85c-2329-4386-8deb-43dca9b387cd",
   "metadata": {},
   "outputs": [
    {
     "data": {
      "text/plain": [
       "'python'"
      ]
     },
     "execution_count": 202,
     "metadata": {},
     "output_type": "execute_result"
    }
   ],
   "source": [
    "b.lstrip('#')"
   ]
  },
  {
   "cell_type": "code",
   "execution_count": 204,
   "id": "cad7694e-c8a6-45bd-a44c-4960d83aa20b",
   "metadata": {},
   "outputs": [
    {
     "data": {
      "text/plain": [
       "'himanu'"
      ]
     },
     "execution_count": 204,
     "metadata": {},
     "output_type": "execute_result"
    }
   ],
   "source": [
    "c.rstrip('*,#')"
   ]
  },
  {
   "cell_type": "code",
   "execution_count": 206,
   "id": "6935d199-d0ca-4fd7-9505-3137cda66773",
   "metadata": {},
   "outputs": [],
   "source": [
    "x='pranaba'"
   ]
  },
  {
   "cell_type": "code",
   "execution_count": 208,
   "id": "cc1bf296-ba07-4fd7-9f47-bfba4ab13ad4",
   "metadata": {},
   "outputs": [
    {
     "data": {
      "text/plain": [
       "True"
      ]
     },
     "execution_count": 208,
     "metadata": {},
     "output_type": "execute_result"
    }
   ],
   "source": [
    "x.startswith('p')"
   ]
  },
  {
   "cell_type": "code",
   "execution_count": 216,
   "id": "579a2c80-c651-4eb4-9919-3b3fa5c74910",
   "metadata": {},
   "outputs": [
    {
     "data": {
      "text/plain": [
       "True"
      ]
     },
     "execution_count": 216,
     "metadata": {},
     "output_type": "execute_result"
    }
   ],
   "source": [
    "x.endswith('a')"
   ]
  },
  {
   "cell_type": "code",
   "execution_count": 10,
   "id": "c5368be5-ac4e-4231-b765-1c120462693d",
   "metadata": {},
   "outputs": [],
   "source": [
    "import random "
   ]
  },
  {
   "cell_type": "code",
   "execution_count": 27,
   "id": "81c7be71-fbcd-4c05-b715-444ae981bd4e",
   "metadata": {},
   "outputs": [
    {
     "name": "stdout",
     "output_type": "stream",
     "text": [
      "[19, 32, 44, 3, 40, 39, 32, 15, 34, 45, 16, 32, 37, 4, 44]\n",
      "19 is the odd number\n",
      "32 is a even number\n",
      "44 is a even number\n",
      "3 is the odd number\n",
      "40 is a even number\n",
      "39 is the odd number\n",
      "32 is a even number\n",
      "15 is the odd number\n",
      "34 is a even number\n",
      "45 is the odd number\n",
      "16 is a even number\n",
      "32 is a even number\n",
      "37 is the odd number\n",
      "4 is a even number\n",
      "44 is a even number\n"
     ]
    }
   ],
   "source": [
    "n = [random.randint(1,50)for i in range(15)]\n",
    "print(n)\n",
    "for i in n:\n",
    "    if i%2==0:\n",
    "        print(f'{i} is a even number')\n",
    "    else:\n",
    "        print(f'{i} is the odd number')"
   ]
  },
  {
   "cell_type": "code",
   "execution_count": 11,
   "id": "a1d5a207-cad1-4b4f-8f37-39fd9a08523c",
   "metadata": {},
   "outputs": [
    {
     "name": "stdout",
     "output_type": "stream",
     "text": [
      "['Apple', 'Banana', 'Orange', 'Mango', 'Grapes', 'Pineapple', 'Strawberry', 'Watermelon', 'Papaya', 'Kiwi', 'Cherry', 'Peach', 'Baba', 'Pear', 'Blueberry', 'Guava']\n"
     ]
    }
   ],
   "source": [
    "fruits = [\"Apple\", \"Banana\", \"Orange\", \"Mango\", \"Grapes\", \n",
    "          \"Pineapple\", \"Strawberry\", \"Watermelon\", \"Papaya\", \n",
    "          \"Kiwi\", \"Cherry\", \"Peach\",\"Baba\", \"Pear\", \"Blueberry\", \"Guava\"]\n",
    "\n",
    "print(fruits)"
   ]
  },
  {
   "cell_type": "raw",
   "id": "d8a9d35d-12f1-4afb-ae18-63e13a749bd2",
   "metadata": {},
   "source": [
    "for "
   ]
  },
  {
   "cell_type": "code",
   "execution_count": 13,
   "id": "6a2ebd71-d45a-4190-9168-9b1976572374",
   "metadata": {},
   "outputs": [
    {
     "name": "stdout",
     "output_type": "stream",
     "text": [
      "Banana\n",
      "Baba\n"
     ]
    }
   ],
   "source": [
    "for i in fruits:\n",
    "    if i.endswith('a') and i.startswith('B'):\n",
    "        print(i)\n",
    "        "
   ]
  },
  {
   "cell_type": "code",
   "execution_count": null,
   "id": "ee3b06f6-baa1-48f8-8583-9a2fcf0a9c37",
   "metadata": {},
   "outputs": [],
   "source": []
  },
  {
   "cell_type": "code",
   "execution_count": null,
   "id": "0d5c7341-26dc-4962-9f01-4081eb71ea30",
   "metadata": {},
   "outputs": [],
   "source": []
  },
  {
   "cell_type": "code",
   "execution_count": null,
   "id": "d15d9e7b-fd99-465b-88b0-00305676493c",
   "metadata": {},
   "outputs": [],
   "source": []
  }
 ],
 "metadata": {
  "kernelspec": {
   "display_name": "Python 3 (ipykernel)",
   "language": "python",
   "name": "python3"
  },
  "language_info": {
   "codemirror_mode": {
    "name": "ipython",
    "version": 3
   },
   "file_extension": ".py",
   "mimetype": "text/x-python",
   "name": "python",
   "nbconvert_exporter": "python",
   "pygments_lexer": "ipython3",
   "version": "3.12.7"
  }
 },
 "nbformat": 4,
 "nbformat_minor": 5
}
