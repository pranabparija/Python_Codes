{
 "cells": [
  {
   "cell_type": "code",
   "execution_count": 2,
   "id": "8ddb7f21-b4ef-4bd5-8290-3c83fb31beeb",
   "metadata": {},
   "outputs": [],
   "source": [
    "# Write a function that takes a list of numbers and returns the largest number.\n",
    "# Create a function to calculate the grade percentage and return the grade (A, B, C, etc.) based on the percentage.\n",
    "# Write a function to check whether a number is prime.\n",
    "# Write a function that reverses a string."
   ]
  },
  {
   "cell_type": "code",
   "execution_count": 12,
   "id": "dc4343ea-617d-48af-8557-1d1b2818383b",
   "metadata": {},
   "outputs": [
    {
     "name": "stdin",
     "output_type": "stream",
     "text": [
      "enter a list of numbers: 99,88,564,254,78,45,6,45,1,4,58,15,4,5,5,888,56,89,821\n"
     ]
    },
    {
     "name": "stdout",
     "output_type": "stream",
     "text": [
      "the largest number is: 888\n"
     ]
    }
   ],
   "source": [
    "# Write a function that takes a list of numbers and returns the largest number.\n",
    "\n",
    "def largest():\n",
    "    numbers = eval(input('enter a list of numbers:'))\n",
    "    largest = max(numbers)\n",
    "    print('the largest number is:',largest)\n",
    "largest()"
   ]
  },
  {
   "cell_type": "code",
   "execution_count": 32,
   "id": "6a6ab2c5-81af-42a2-b2d7-394ab8208e55",
   "metadata": {},
   "outputs": [
    {
     "name": "stdin",
     "output_type": "stream",
     "text": [
      "enter your percentage: 99\n"
     ]
    },
    {
     "name": "stdout",
     "output_type": "stream",
     "text": [
      "Grade:C\n"
     ]
    }
   ],
   "source": [
    "# Create a function to calculate the grade percentage and return the grade (A, B, C, etc.) based on the percentage.\n",
    "def grade():\n",
    "    percentage = eval(input('enter your percentage:'))\n",
    "    if percentage > 50:\n",
    "        print('Grade:C')\n",
    "    elif perentage > 70:\n",
    "        print('Grade:B')\n",
    "    elif percentage > 90:\n",
    "        print('Grade:A')\n",
    "    elif percentage < 95:\n",
    "        print('Grade:A')\n",
    "\n",
    "grade()"
   ]
  },
  {
   "cell_type": "code",
   "execution_count": 34,
   "id": "ecaf0fab-a276-47e5-adbb-5a83e1e2b72b",
   "metadata": {},
   "outputs": [
    {
     "name": "stdout",
     "output_type": "stream",
     "text": [
      "Percentage: 85.00%, Grade: B\n"
     ]
    }
   ],
   "source": [
    "def calculate_grade(marks_obtained, total_marks):\n",
    "    \"\"\"Calculates the grade percentage and returns the grade.\"\"\"\n",
    "    if total_marks == 0:  # Prevent division by zero\n",
    "        return \"Total marks cannot be zero.\"\n",
    "\n",
    "    # Calculate percentage\n",
    "    percentage = (marks_obtained / total_marks) * 100\n",
    "\n",
    "    # Determine grade\n",
    "    if percentage >= 90:\n",
    "        grade = \"A\"\n",
    "    elif percentage >= 80:\n",
    "        grade = \"B\"\n",
    "    elif percentage >= 70:\n",
    "        grade = \"C\"\n",
    "    elif percentage >= 60:\n",
    "        grade = \"D\"\n",
    "    else:\n",
    "        grade = \"F\"\n",
    "\n",
    "    return f\"Percentage: {percentage:.2f}%, Grade: {grade}\"\n",
    "\n",
    "# Example usage\n",
    "marks_obtained = 85\n",
    "total_marks = 100\n",
    "result = calculate_grade(marks_obtained, total_marks)\n",
    "print(result)\n"
   ]
  },
  {
   "cell_type": "code",
   "execution_count": null,
   "id": "3aece4d7-80b8-460a-86dd-a0e80fd9fdfb",
   "metadata": {},
   "outputs": [],
   "source": []
  }
 ],
 "metadata": {
  "kernelspec": {
   "display_name": "Python 3 (ipykernel)",
   "language": "python",
   "name": "python3"
  },
  "language_info": {
   "codemirror_mode": {
    "name": "ipython",
    "version": 3
   },
   "file_extension": ".py",
   "mimetype": "text/x-python",
   "name": "python",
   "nbconvert_exporter": "python",
   "pygments_lexer": "ipython3",
   "version": "3.12.7"
  }
 },
 "nbformat": 4,
 "nbformat_minor": 5
}
