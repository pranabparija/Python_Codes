{
 "cells": [
  {
   "cell_type": "code",
   "execution_count": 6,
   "id": "3ca865cd-e193-443f-af42-4e59c9242d68",
   "metadata": {},
   "outputs": [
    {
     "name": "stdin",
     "output_type": "stream",
     "text": [
      "enter your age :  19\n"
     ]
    },
    {
     "name": "stdout",
     "output_type": "stream",
     "text": [
      "you are eligible for voting\n"
     ]
    }
   ],
   "source": [
    "x = int(input('enter your age : '))\n",
    "if x >= 18 :\n",
    "    print('you are eligible for voting')\n",
    "else:\n",
    "    print('you are not eligible for voting')"
   ]
  },
  {
   "cell_type": "code",
   "execution_count": 12,
   "id": "ce68731b-5c76-406d-8281-a26af17b58e3",
   "metadata": {},
   "outputs": [
    {
     "name": "stdin",
     "output_type": "stream",
     "text": [
      "enter the number which u want to know its a even or odd number :  55\n"
     ]
    },
    {
     "name": "stdout",
     "output_type": "stream",
     "text": [
      "the number u entered it is an odd nuber\n"
     ]
    }
   ],
   "source": [
    "x = int(input('enter the number which u want to know its a even or odd number : '))\n",
    "if x%2 == 0:\n",
    "    print('the number u entered it is an even nuber')\n",
    "else:\n",
    "    print('the number u entered it is an odd nuber')"
   ]
  },
  {
   "cell_type": "markdown",
   "id": "d46eda84-56cf-4ea3-a3e7-9c3d4beb4f1d",
   "metadata": {},
   "source": [
    "# grade system"
   ]
  },
  {
   "cell_type": "code",
   "execution_count": 21,
   "id": "fb5b81e6-8fec-4a8c-ac80-4f40cb10e281",
   "metadata": {},
   "outputs": [
    {
     "name": "stdin",
     "output_type": "stream",
     "text": [
      "enter your marks: 96\n"
     ]
    },
    {
     "name": "stdout",
     "output_type": "stream",
     "text": [
      "A grade\n"
     ]
    }
   ],
   "source": [
    "marks = int(input('enter your marks:'))\n",
    "if marks >= 90:\n",
    "    print('A grade')\n",
    "elif marks >= 75 :\n",
    "    print('B grade')\n",
    "elif marks >= 50:\n",
    "    print('C grade')\n",
    "#########################################\n",
    "else:\n",
    "    print('F grade')"
   ]
  },
  {
   "cell_type": "code",
   "execution_count": 35,
   "id": "28ea97dc-3f26-48aa-8456-878cfc981eb0",
   "metadata": {},
   "outputs": [
    {
     "name": "stdin",
     "output_type": "stream",
     "text": [
      "enter the year :  2000\n"
     ]
    },
    {
     "name": "stdout",
     "output_type": "stream",
     "text": [
      "it is a leap year 2000\n"
     ]
    }
   ],
   "source": [
    "##Leap Year Checker\n",
    "#Write a program to check whether a given year is a leap year.\n",
    "#Hint: A year is a leap year if it is divisible by 4 but not divisible by 100, unless it is also divisible by 400.\n",
    "year  = int(input('enter the year : '))\n",
    "if year % 4 == 0  and year % 400 == 0:\n",
    "    print('it is a leap year',year)\n",
    "elif year % 100 != 0:\n",
    "    print(year,'it is not aa leap year')"
   ]
  },
  {
   "cell_type": "code",
   "execution_count": 59,
   "id": "0b31cf66-2115-4e02-8b83-aafc099f092c",
   "metadata": {},
   "outputs": [
    {
     "name": "stdin",
     "output_type": "stream",
     "text": [
      "enter a number : 6\n"
     ]
    },
    {
     "name": "stdout",
     "output_type": "stream",
     "text": [
      "positive number\n"
     ]
    }
   ],
   "source": [
    "#  Write a program that takes a number as input and prints whether it is positive, negative, or zero.\n",
    "\n",
    "num = int(input('enter a number :'))\n",
    "if num > 0:\n",
    "    print('positive number')\n",
    "elif num < 0:\n",
    "    print('negative number')\n",
    "else:\n",
    "    print('it is zero')"
   ]
  },
  {
   "cell_type": "code",
   "execution_count": 67,
   "id": "9287ae99-618d-47ac-860b-da5a3012e82a",
   "metadata": {},
   "outputs": [
    {
     "name": "stdin",
     "output_type": "stream",
     "text": [
      "enter your age: 8\n"
     ]
    },
    {
     "name": "stdout",
     "output_type": "stream",
     "text": [
      "not eligible for voting\n"
     ]
    }
   ],
   "source": [
    "#Eligibility to Vote , Write a program to check if a person is eligible to vote.(A person is eligible if their age is 18 or above.)\n",
    "age = int(input('enter your age:'))\n",
    "if age >= 18 :\n",
    "    print('you are eligible to voting')\n",
    "else:\n",
    "    print('not eligible for voting')"
   ]
  },
  {
   "cell_type": "code",
   "execution_count": 45,
   "id": "d40562c1-72ee-4a7f-aeed-a68d11a93d30",
   "metadata": {},
   "outputs": [
    {
     "data": {
      "text/plain": [
       "500.0"
      ]
     },
     "execution_count": 45,
     "metadata": {},
     "output_type": "execute_result"
    }
   ],
   "source": [
    "2000/4\n"
   ]
  },
  {
   "cell_type": "code",
   "execution_count": 33,
   "id": "6df7a7bb-358b-48d3-b307-c759a10610fd",
   "metadata": {},
   "outputs": [
    {
     "data": {
      "text/plain": [
       "475.0"
      ]
     },
     "execution_count": 33,
     "metadata": {},
     "output_type": "execute_result"
    }
   ],
   "source": [
    "1900/4"
   ]
  },
  {
   "cell_type": "code",
   "execution_count": 41,
   "id": "30d47c94-2358-4110-8812-61c2ef64b514",
   "metadata": {},
   "outputs": [
    {
     "name": "stdin",
     "output_type": "stream",
     "text": [
      "Enter a year:  2000\n"
     ]
    },
    {
     "name": "stdout",
     "output_type": "stream",
     "text": [
      "2000 is a leap year.\n"
     ]
    }
   ],
   "source": [
    "# Input: Year from the user\n",
    "y = int(input(\"Enter a year: \"))\n",
    "\n",
    "# Check if it's a leap year\n",
    "if y % 4 == 0:\n",
    "    if y % 100 == 0:\n",
    "        if y % 400 == 0:\n",
    "            print(f\"{y} is a leap year.\")\n",
    "        else:\n",
    "            print(f\"{y} is not a leap year.\")\n",
    "    else:\n",
    "        print(f\"{y} is a leap year.\")\n",
    "else:\n",
    "    print(f\"{y} is not a leap year.\")\n"
   ]
  },
  {
   "cell_type": "code",
   "execution_count": 2,
   "id": "22037f15-64e0-47e1-a63f-ef9b00003de8",
   "metadata": {},
   "outputs": [
    {
     "data": {
      "text/plain": [
       "10"
      ]
     },
     "execution_count": 2,
     "metadata": {},
     "output_type": "execute_result"
    }
   ],
   "source": [
    "h = 9\n",
    "u = 1\n",
    "x = h+u\n",
    "x"
   ]
  },
  {
   "cell_type": "code",
   "execution_count": null,
   "id": "59b57d13-6eaa-430d-97b2-683339ae06ba",
   "metadata": {},
   "outputs": [],
   "source": []
  }
 ],
 "metadata": {
  "kernelspec": {
   "display_name": "Python 3 (ipykernel)",
   "language": "python",
   "name": "python3"
  },
  "language_info": {
   "codemirror_mode": {
    "name": "ipython",
    "version": 3
   },
   "file_extension": ".py",
   "mimetype": "text/x-python",
   "name": "python",
   "nbconvert_exporter": "python",
   "pygments_lexer": "ipython3",
   "version": "3.12.7"
  }
 },
 "nbformat": 4,
 "nbformat_minor": 5
}
