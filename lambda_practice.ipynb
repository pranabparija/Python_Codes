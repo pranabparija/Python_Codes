{
 "cells": [
  {
   "cell_type": "code",
   "execution_count": 1,
   "id": "5fc41b85-4b12-4edc-b805-6d595241da49",
   "metadata": {},
   "outputs": [],
   "source": [
    "# syntax \n",
    "# function_name = lamda<argument> : return<output>\n",
    "# in the above\n",
    "# argument name = a\n",
    "# return output = a*a"
   ]
  },
  {
   "cell_type": "code",
   "execution_count": 2,
   "id": "4cf21d05-394e-4151-bb80-7db42dd459ee",
   "metadata": {},
   "outputs": [],
   "source": [
    "output = lambda a : a+a"
   ]
  },
  {
   "cell_type": "code",
   "execution_count": 3,
   "id": "b7f0f02a-cd29-4846-8458-78653a621a2d",
   "metadata": {},
   "outputs": [
    {
     "data": {
      "text/plain": [
       "8"
      ]
     },
     "execution_count": 3,
     "metadata": {},
     "output_type": "execute_result"
    }
   ],
   "source": [
    "output(4)"
   ]
  },
  {
   "cell_type": "code",
   "execution_count": 4,
   "id": "587bf982-e744-40fe-9f9a-693005937746",
   "metadata": {},
   "outputs": [],
   "source": [
    "def add(a,b,c):\n",
    "    return a+b+c"
   ]
  },
  {
   "cell_type": "code",
   "execution_count": 5,
   "id": "c39491fe-86e3-4468-a670-895d5c193131",
   "metadata": {},
   "outputs": [
    {
     "data": {
      "text/plain": [
       "6"
      ]
     },
     "execution_count": 5,
     "metadata": {},
     "output_type": "execute_result"
    }
   ],
   "source": [
    "add(1,2,3)"
   ]
  },
  {
   "cell_type": "code",
   "execution_count": 11,
   "id": "52d48881-5097-42bc-a1a5-f7b8d887a86b",
   "metadata": {},
   "outputs": [],
   "source": [
    "add = lambda a,b,c : (a+b+c)"
   ]
  },
  {
   "cell_type": "code",
   "execution_count": 12,
   "id": "ca22bcb1-3729-4952-9a44-f32fde96027c",
   "metadata": {},
   "outputs": [
    {
     "data": {
      "text/plain": [
       "100"
      ]
     },
     "execution_count": 12,
     "metadata": {},
     "output_type": "execute_result"
    }
   ],
   "source": [
    "add(23,33,44)"
   ]
  },
  {
   "cell_type": "markdown",
   "id": "b7a09765-78ad-4ab2-bc64-cf289b22dc5c",
   "metadata": {},
   "source": [
    "**map**"
   ]
  },
  {
   "cell_type": "code",
   "execution_count": null,
   "id": "041d41a0-3943-4b83-9af1-56aaddd4d016",
   "metadata": {},
   "outputs": [],
   "source": [
    "# step:1 lambda <variable> : <output>\n",
    "# step-2: lambda <variable> : <output>, <iyerator>\n",
    "# step-3 : map( lambda <variable> : <output>, <iyerator>)\n",
    "# step-4: list(map( lambda <variable> : <output>, <iyerator>))"
   ]
  },
  {
   "cell_type": "code",
   "execution_count": 14,
   "id": "144d5143-4973-463b-84ab-b68c46f827f5",
   "metadata": {},
   "outputs": [
    {
     "data": {
      "text/plain": [
       "['Hyd', 'Bengaluru', 'Mumbai', 'Pune']"
      ]
     },
     "execution_count": 14,
     "metadata": {},
     "output_type": "execute_result"
    }
   ],
   "source": [
    "# input = ['hyd','bengaluru','mumbai','pune']\n",
    "# output = ['Hyd', 'Bengaluru', 'Mumbai', 'Pune']\n",
    "input = ['hyd','bengaluru','mumbai','pune']\n",
    "list(map(lambda i : i.capitalize(),input))"
   ]
  },
  {
   "cell_type": "code",
   "execution_count": 17,
   "id": "3cd6a56f-12c8-4487-ad11-3c861af1de49",
   "metadata": {},
   "outputs": [
    {
     "data": {
      "text/plain": [
       "['HYD', 'BENGALURU', 'MUMBAI', 'PUNE']"
      ]
     },
     "execution_count": 17,
     "metadata": {},
     "output_type": "execute_result"
    }
   ],
   "source": [
    "input = ['hyd','bengaluru','mumbai','pune']\n",
    "lambda i : i.upper(),input\n",
    "map(lambda i : i.upper(),input)\n",
    "list(map(lambda i :i.upper(),input))"
   ]
  },
  {
   "cell_type": "code",
   "execution_count": 23,
   "id": "38950df4-3d7c-4fc0-bf16-5eee34e6cdf7",
   "metadata": {},
   "outputs": [
    {
     "data": {
      "text/plain": [
       "[0, 1, 2, 3]"
      ]
     },
     "execution_count": 23,
     "metadata": {},
     "output_type": "execute_result"
    }
   ],
   "source": [
    "# input = ['hyd','bengaluru','mumbai','pune']\n",
    "# output = [0,1,2,3]\n",
    "list(map(lambda i : input.index(i),input))"
   ]
  },
  {
   "cell_type": "code",
   "execution_count": 27,
   "id": "48280420-1072-4353-843b-11b18dda5124",
   "metadata": {},
   "outputs": [
    {
     "data": {
      "text/plain": [
       "[False, True, False, True]"
      ]
     },
     "execution_count": 27,
     "metadata": {},
     "output_type": "execute_result"
    }
   ],
   "source": [
    "input=['hyd','beng#uluru','mumbai','pu#ne']\n",
    "# output=['beng#uluru','pu#ne']\n",
    "list(map(lambda i : '#' in i,input))"
   ]
  },
  {
   "cell_type": "code",
   "execution_count": 28,
   "id": "d7d04a3f-fb28-42bb-8936-01f3a86e4d4a",
   "metadata": {},
   "outputs": [
    {
     "data": {
      "text/plain": [
       "['beng#uluru', 'pu#ne']"
      ]
     },
     "execution_count": 28,
     "metadata": {},
     "output_type": "execute_result"
    }
   ],
   "source": [
    "list(filter(lambda i : '#' in i,input))"
   ]
  },
  {
   "cell_type": "code",
   "execution_count": 34,
   "id": "e7f2d1bd-c976-4445-93db-30f269a283f9",
   "metadata": {},
   "outputs": [
    {
     "data": {
      "text/plain": [
       "[2, 4, 6, 8, 10]"
      ]
     },
     "execution_count": 34,
     "metadata": {},
     "output_type": "execute_result"
    }
   ],
   "source": [
    "numbers = [1, 2, 3, 4, 5, 6, 7, 8, 9, 10]\n",
    "# filter the even numbers in the list using lambda function\n",
    "list(filter(lambda i : i%2==0 ,numbers))  "
   ]
  },
  {
   "cell_type": "code",
   "execution_count": 36,
   "id": "daaf1760-b9d3-4455-bc1f-a43718bc21fe",
   "metadata": {},
   "outputs": [],
   "source": [
    "from functools import reduce"
   ]
  },
  {
   "cell_type": "code",
   "execution_count": 40,
   "id": "e6c0fd3f-1e77-4862-9b3c-7f1e07290011",
   "metadata": {},
   "outputs": [
    {
     "data": {
      "text/plain": [
       "15"
      ]
     },
     "execution_count": 40,
     "metadata": {},
     "output_type": "execute_result"
    }
   ],
   "source": [
    "list1=[1,2,3,4,5]\n",
    "reduce(lambda summ,i : summ+i,list1)"
   ]
  },
  {
   "cell_type": "code",
   "execution_count": 41,
   "id": "c83ada24-4b12-47cf-9f3c-f070b2bb2ce0",
   "metadata": {},
   "outputs": [
    {
     "data": {
      "text/plain": [
       "25"
      ]
     },
     "execution_count": 41,
     "metadata": {},
     "output_type": "execute_result"
    }
   ],
   "source": [
    "list1=[1,2,3,4,5]\n",
    "reduce(lambda summ,i : summ+i,list1,10)    #  sum"
   ]
  },
  {
   "cell_type": "code",
   "execution_count": null,
   "id": "d91772ac-29c0-440a-a186-6399c3fd926e",
   "metadata": {},
   "outputs": [],
   "source": []
  }
 ],
 "metadata": {
  "kernelspec": {
   "display_name": "Python 3 (ipykernel)",
   "language": "python",
   "name": "python3"
  },
  "language_info": {
   "codemirror_mode": {
    "name": "ipython",
    "version": 3
   },
   "file_extension": ".py",
   "mimetype": "text/x-python",
   "name": "python",
   "nbconvert_exporter": "python",
   "pygments_lexer": "ipython3",
   "version": "3.12.7"
  }
 },
 "nbformat": 4,
 "nbformat_minor": 5
}
