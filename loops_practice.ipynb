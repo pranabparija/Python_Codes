{
 "cells": [
  {
   "cell_type": "code",
   "execution_count": null,
   "id": "62afd7f4-6ffc-40ee-a299-dd10ee162b96",
   "metadata": {},
   "outputs": [],
   "source": [
    "# While loop\n",
    "#print the number 1 to 50\n",
    "i = 1\n",
    "while(i <= 100):\n",
    "    print(i)\n",
    "    i = i+1\n",
    "\n",
    "    "
   ]
  },
  {
   "cell_type": "code",
   "execution_count": null,
   "id": "f18f9b9f-1284-4436-a3f0-27a9d620a59b",
   "metadata": {},
   "outputs": [],
   "source": [
    "while(i <= 100):\n",
    "    print('Geli i love you')\n",
    "    i = i+1\n"
   ]
  },
  {
   "cell_type": "code",
   "execution_count": null,
   "id": "fc53ce32-0da4-4ad6-83cb-1f6ce430c04a",
   "metadata": {},
   "outputs": [],
   "source": [
    "for i in range(30):\n",
    "    print(i)"
   ]
  },
  {
   "cell_type": "code",
   "execution_count": null,
   "id": "c648055b-1407-4da9-92b2-ec24d0ed0380",
   "metadata": {},
   "outputs": [],
   "source": [
    "for i in range(30):\n",
    "    if i == 20:\n",
    "        break\n",
    "    print(i)\n",
    "        \n"
   ]
  },
  {
   "cell_type": "code",
   "execution_count": null,
   "id": "25877f4b-4c49-46e0-a496-aa3973a957a9",
   "metadata": {},
   "outputs": [],
   "source": [
    "for i in range(30):\n",
    "    if i == 20:\n",
    "        continue\n",
    "    print(i)"
   ]
  },
  {
   "cell_type": "code",
   "execution_count": null,
   "id": "84e50389-72a0-4d6f-815f-7504154761bf",
   "metadata": {},
   "outputs": [],
   "source": [
    "n = int(input('enter the number: '))\n",
    "for i in range(1,11):\n",
    "    print(f'{n}x{i} = {n*i} ')"
   ]
  },
  {
   "cell_type": "code",
   "execution_count": null,
   "id": "e38657da-2133-4932-b9a0-999153e19fb7",
   "metadata": {},
   "outputs": [],
   "source": [
    "l = ['piku','siku','pilu','chiku','punam','priti']\n",
    "for i in l:\n",
    "    if i.startswith('p'):\n",
    "        print(i)"
   ]
  },
  {
   "cell_type": "code",
   "execution_count": null,
   "id": "93740c6a-7829-48fc-9075-8338eb47fc0f",
   "metadata": {},
   "outputs": [],
   "source": [
    "n = int(input('enter the number: '))\n",
    "i = 1\n",
    "while(i<11):\n",
    "    i += 1\n",
    "    print(f'{i}*{n} = {i*n}')"
   ]
  },
  {
   "cell_type": "code",
   "execution_count": null,
   "id": "94a2528c-f723-484d-b4c4-4063f9566b76",
   "metadata": {},
   "outputs": [],
   "source": [
    "num = 2\n",
    "while(num <= 20 ):\n",
    "    print(num)\n",
    "    num += 2"
   ]
  },
  {
   "cell_type": "code",
   "execution_count": 1,
   "id": "3eb4598e-ed61-4803-9d15-5168a3a0bf3a",
   "metadata": {},
   "outputs": [
    {
     "name": "stdout",
     "output_type": "stream",
     "text": [
      "2\n",
      "4\n",
      "6\n",
      "8\n",
      "10\n",
      "12\n",
      "14\n",
      "16\n",
      "18\n",
      "20\n"
     ]
    }
   ],
   "source": [
    "num = 1\n",
    "count = 1\n",
    "while count < 11:\n",
    "    if num % 2 == 0:\n",
    "        print(num)\n",
    "        count += 1\n",
    "    num += 1\n"
   ]
  },
  {
   "cell_type": "code",
   "execution_count": 11,
   "id": "3929ba3c-40d6-4f77-921b-772402515aa2",
   "metadata": {},
   "outputs": [],
   "source": [
    "count = 0\n",
    "for i in range(1,50):\n",
    "    if i % 2 == 0:\n",
    "        print(i)\n",
    "        count += 1\n",
    "    if count == 10:\n",
    "        break\n",
    "    "
   ]
  },
  {
   "cell_type": "code",
   "execution_count": 29,
   "id": "4af2fa75-0b3f-493a-ba27-64d304c91696",
   "metadata": {},
   "outputs": [
    {
     "ename": "SyntaxError",
     "evalue": "f-string: expecting '!', or ':', or '}' (3796181569.py, line 7)",
     "output_type": "error",
     "traceback": [
      "\u001b[1;36m  Cell \u001b[1;32mIn[29], line 7\u001b[1;36m\u001b[0m\n\u001b[1;33m    print(f'sum is {sum = sum + i}')\u001b[0m\n\u001b[1;37m                          ^\u001b[0m\n\u001b[1;31mSyntaxError\u001b[0m\u001b[1;31m:\u001b[0m f-string: expecting '!', or ':', or '}'\n"
     ]
    }
   ],
   "source": [
    "n = int(input('enter the number:'))\n",
    "i = 1 \n",
    "sum = 0\n",
    "while (i<=n):\n",
    "    sum = sum + i\n",
    "    i = i+1\n",
    "print(sum)"
   ]
  },
  {
   "cell_type": "code",
   "execution_count": null,
   "id": "2eda4a76-f3ad-4b8f-90e3-acb7d1b97548",
   "metadata": {},
   "outputs": [],
   "source": [
    "#9. Write a program that asks the user for an hour between 1 and 12, asks them to\n",
    "# enter am or pm, and asks them how many hours into the future they want to go.\n",
    "# Print out what the hour will be that many hours into the future, printing am or pm as\n",
    "# appropriate. An example is shown below.\n",
    "# Enter hour: 8\n",
    "# am (1) or pm (2)? 1\n",
    "# How many hours ahead? 5\n",
    "# New hour: 1 pm"
   ]
  }
 ],
 "metadata": {
  "kernelspec": {
   "display_name": "Python 3 (ipykernel)",
   "language": "python",
   "name": "python3"
  },
  "language_info": {
   "codemirror_mode": {
    "name": "ipython",
    "version": 3
   },
   "file_extension": ".py",
   "mimetype": "text/x-python",
   "name": "python",
   "nbconvert_exporter": "python",
   "pygments_lexer": "ipython3",
   "version": "3.12.7"
  }
 },
 "nbformat": 4,
 "nbformat_minor": 5
}
