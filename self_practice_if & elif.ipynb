{
 "cells": [
  {
   "cell_type": "code",
   "execution_count": 2,
   "id": "5b4bbea5-d0aa-43df-89f3-439abb586d26",
   "metadata": {},
   "outputs": [
    {
     "data": {
      "text/plain": [
       "1.06"
      ]
     },
     "execution_count": 2,
     "metadata": {},
     "output_type": "execute_result"
    }
   ],
   "source": [
    "106/100\n"
   ]
  },
  {
   "cell_type": "code",
   "execution_count": 4,
   "id": "d48fe58e-2b14-442e-b554-3f598fc3f282",
   "metadata": {},
   "outputs": [
    {
     "data": {
      "text/plain": [
       "0.017666666666666667"
      ]
     },
     "execution_count": 4,
     "metadata": {},
     "output_type": "execute_result"
    }
   ],
   "source": [
    "1.06/60\n"
   ]
  },
  {
   "cell_type": "code",
   "execution_count": 4,
   "id": "c6a83d97-e0ef-4a51-830b-ca39db8b4b30",
   "metadata": {},
   "outputs": [
    {
     "name": "stdin",
     "output_type": "stream",
     "text": [
      "Enter your gender (male/female):  male\n",
      "Enter your age:  55\n"
     ]
    },
    {
     "name": "stdout",
     "output_type": "stream",
     "text": [
      "Middle-aged man\n"
     ]
    }
   ],
   "source": [
    "gender = input('Enter your gender (male/female): ').strip().lower()\n",
    "\n",
    "if gender == 'male':\n",
    "    age = int(input('Enter your age: '))\n",
    "    if age >= 60:\n",
    "        print('Senior citizen')\n",
    "    elif age >= 30:\n",
    "        print('Middle-aged man')\n",
    "    elif age >= 15:\n",
    "        print('Young man')\n",
    "    else:\n",
    "        print('Boy')\n",
    "elif gender == 'female':\n",
    "    age = int(input('Enter your age: '))\n",
    "    if age >= 60:\n",
    "        print('Senior citizen')\n",
    "    elif age >= 30:\n",
    "        print('Middle-aged woman')\n",
    "    elif age >= 15:\n",
    "        print('Young woman')\n",
    "    else:\n",
    "        print('Girl')\n",
    "elif gender == 'trans':\n",
    "    age = int(input('Enter your age: '))\n",
    "    if age >= 60:\n",
    "        print('Senior trans')\n",
    "    elif age >= 30:\n",
    "        print('Middle-aged trans')\n",
    "    elif age >= 15:\n",
    "        print('Young trans')\n",
    "    else:\n",
    "        print('trans Girl')\n",
    "else :\n",
    "    print('Invalid gender input.')\n"
   ]
  },
  {
   "cell_type": "code",
   "execution_count": 8,
   "id": "e7486e2f-d506-4a72-857a-840032d8d2ce",
   "metadata": {},
   "outputs": [
    {
     "name": "stdin",
     "output_type": "stream",
     "text": [
      "enter your name : chinku\n"
     ]
    },
    {
     "name": "stdout",
     "output_type": "stream",
     "text": [
      "name is not in the list\n"
     ]
    }
   ],
   "source": [
    "l = ['piku','siku','liku','chiku','tiku']\n",
    "name = input('enter your name :')\n",
    "if name in l:\n",
    "    print('name is in the list')\n",
    "else:\n",
    "    print('name is not in the list')"
   ]
  },
  {
   "cell_type": "code",
   "execution_count": 22,
   "id": "fb43e8ac-1658-44a4-8cb7-d89cdfda41fb",
   "metadata": {},
   "outputs": [
    {
     "name": "stdin",
     "output_type": "stream",
     "text": [
      "enter comment: hello click it\n"
     ]
    },
    {
     "name": "stdout",
     "output_type": "stream",
     "text": [
      "spam comment\n"
     ]
    }
   ],
   "source": [
    "\n",
    "\n",
    "m1 = 'buy now'\n",
    "m2 = 'click it'\n",
    "m3 = 'subscribe this'\n",
    "m4 = 'make money'\n",
    "\n",
    "comment = input('enter comment:')\n",
    "if m1 in comment or m2 in comment or m3 in comment or m4 in comment:\n",
    "    print('spam comment')\n",
    "else:\n",
    "    print('not a spam comment')"
   ]
  },
  {
   "cell_type": "code",
   "execution_count": 30,
   "id": "1a16afc2-0e5c-439f-85fc-58d41488dab9",
   "metadata": {},
   "outputs": [
    {
     "name": "stdin",
     "output_type": "stream",
     "text": [
      "enter the post :  HEy Pranab\n"
     ]
    },
    {
     "name": "stdout",
     "output_type": "stream",
     "text": [
      "the post is talking about pranab\n"
     ]
    }
   ],
   "source": [
    "# write a program  to find out wheather the post is talking about 'pranab' or not\n",
    "post  = input('enter the post : ')\n",
    "\n",
    "if  'pranab' in post.lower() :  # .lower()\n",
    "    print('the post is talking about pranab')\n",
    "else:\n",
    "    print('the post is not talking about pranab')\n"
   ]
  },
  {
   "cell_type": "code",
   "execution_count": null,
   "id": "6401d5bd-9d17-48f6-95f3-c98d19c0e957",
   "metadata": {},
   "outputs": [],
   "source": [
    "# Reverse words in a string without using extra space.\n",
    "# Check if a string is a palindrome.\n",
    "# Find the longest substring without repeating characters.\n",
    "# Find the longest common prefix among an array of strings.\n",
    "# Count occurrences of a given word in a string.\n",
    "# Check if two strings are anagrams of each other.\n",
    "# Convert a string to its integer value (Implement atoi).\n",
    "# Find the first non-repeating character in a string.\n"
   ]
  },
  {
   "cell_type": "code",
   "execution_count": 2,
   "id": "7137db26-a5ff-4b26-b9fc-539b1cd6c1ff",
   "metadata": {},
   "outputs": [
    {
     "data": {
      "text/plain": [
       "'abanarp'"
      ]
     },
     "execution_count": 2,
     "metadata": {},
     "output_type": "execute_result"
    }
   ],
   "source": [
    "# Reverse words in a string without using extra space.\n",
    "str1 = 'pranaba'\n",
    "str1[::-1]"
   ]
  },
  {
   "cell_type": "code",
   "execution_count": 3,
   "id": "c4ef32fc-c2cd-4db3-9244-52aab9347fec",
   "metadata": {},
   "outputs": [
    {
     "name": "stdout",
     "output_type": "stream",
     "text": [
      "True\n",
      "False\n",
      "True\n"
     ]
    }
   ],
   "source": [
    "# Check if a string is a palindrome.\n",
    "def is_palindrome(s):\n",
    "    s = s.lower().replace(\" \", \"\").replace(\",\", \"\").replace(\"!\", \"\")  # Normalize input\n",
    "    return s == s[::-1]  # Compare string with its reverse\n",
    "\n",
    "# Example usage\n",
    "print(is_palindrome(\"madam\"))  # True\n",
    "print(is_palindrome(\"hello\"))  # False\n",
    "print(is_palindrome(\"A man, a plan, a canal, Panama!\"))  # True\n"
   ]
  },
  {
   "cell_type": "code",
   "execution_count": 4,
   "id": "1f98a719-9e76-4ba2-8aad-8402b0a2ab35",
   "metadata": {},
   "outputs": [
    {
     "data": {
      "text/plain": [
       "True"
      ]
     },
     "execution_count": 4,
     "metadata": {},
     "output_type": "execute_result"
    }
   ],
   "source": [
    "t = 'sas'\n",
    "is_palindrome(t)"
   ]
  },
  {
   "cell_type": "code",
   "execution_count": 5,
   "id": "790b68e3-f468-40e2-9f5b-dc0bc214afc3",
   "metadata": {},
   "outputs": [
    {
     "ename": "AttributeError",
     "evalue": "'int' object has no attribute 'lower'",
     "output_type": "error",
     "traceback": [
      "\u001b[1;31m---------------------------------------------------------------------------\u001b[0m",
      "\u001b[1;31mAttributeError\u001b[0m                            Traceback (most recent call last)",
      "Cell \u001b[1;32mIn[5], line 2\u001b[0m\n\u001b[0;32m      1\u001b[0m n \u001b[38;5;241m=\u001b[39m \u001b[38;5;241m10000001\u001b[39m\n\u001b[1;32m----> 2\u001b[0m \u001b[43mis_palindrome\u001b[49m\u001b[43m(\u001b[49m\u001b[43mn\u001b[49m\u001b[43m)\u001b[49m\n",
      "Cell \u001b[1;32mIn[3], line 3\u001b[0m, in \u001b[0;36mis_palindrome\u001b[1;34m(s)\u001b[0m\n\u001b[0;32m      2\u001b[0m \u001b[38;5;28;01mdef\u001b[39;00m \u001b[38;5;21mis_palindrome\u001b[39m(s):\n\u001b[1;32m----> 3\u001b[0m     s \u001b[38;5;241m=\u001b[39m \u001b[43ms\u001b[49m\u001b[38;5;241;43m.\u001b[39;49m\u001b[43mlower\u001b[49m()\u001b[38;5;241m.\u001b[39mreplace(\u001b[38;5;124m\"\u001b[39m\u001b[38;5;124m \u001b[39m\u001b[38;5;124m\"\u001b[39m, \u001b[38;5;124m\"\u001b[39m\u001b[38;5;124m\"\u001b[39m)\u001b[38;5;241m.\u001b[39mreplace(\u001b[38;5;124m\"\u001b[39m\u001b[38;5;124m,\u001b[39m\u001b[38;5;124m\"\u001b[39m, \u001b[38;5;124m\"\u001b[39m\u001b[38;5;124m\"\u001b[39m)\u001b[38;5;241m.\u001b[39mreplace(\u001b[38;5;124m\"\u001b[39m\u001b[38;5;124m!\u001b[39m\u001b[38;5;124m\"\u001b[39m, \u001b[38;5;124m\"\u001b[39m\u001b[38;5;124m\"\u001b[39m)  \u001b[38;5;66;03m# Normalize input\u001b[39;00m\n\u001b[0;32m      4\u001b[0m     \u001b[38;5;28;01mreturn\u001b[39;00m s \u001b[38;5;241m==\u001b[39m s[::\u001b[38;5;241m-\u001b[39m\u001b[38;5;241m1\u001b[39m]\n",
      "\u001b[1;31mAttributeError\u001b[0m: 'int' object has no attribute 'lower'"
     ]
    }
   ],
   "source": [
    "n = 10000001\n",
    "is_palindrome(n)"
   ]
  },
  {
   "cell_type": "code",
   "execution_count": null,
   "id": "c6805f22-815c-40f6-94c8-cd57e2a9de6d",
   "metadata": {},
   "outputs": [],
   "source": []
  },
  {
   "cell_type": "code",
   "execution_count": null,
   "id": "252faf38-a548-4371-b07d-4127c2dc351e",
   "metadata": {},
   "outputs": [],
   "source": []
  },
  {
   "cell_type": "code",
   "execution_count": null,
   "id": "77194576-4e62-4553-bbe9-ab22864d19d5",
   "metadata": {},
   "outputs": [],
   "source": []
  },
  {
   "cell_type": "code",
   "execution_count": null,
   "id": "e4f62629-7d47-433b-bf5e-18bef6ac03f3",
   "metadata": {},
   "outputs": [],
   "source": []
  },
  {
   "cell_type": "code",
   "execution_count": null,
   "id": "b53f46d0-79dd-434c-a1ab-dda6f46716db",
   "metadata": {},
   "outputs": [],
   "source": []
  },
  {
   "cell_type": "code",
   "execution_count": null,
   "id": "6e70a392-8ae0-4eb6-a8b8-2fef2e96d447",
   "metadata": {},
   "outputs": [],
   "source": []
  },
  {
   "cell_type": "code",
   "execution_count": null,
   "id": "41d12a5a-5156-470f-b18c-b4b936607f66",
   "metadata": {},
   "outputs": [],
   "source": []
  },
  {
   "cell_type": "code",
   "execution_count": null,
   "id": "bdd7226e-0f03-4070-96a6-f79bed247a67",
   "metadata": {},
   "outputs": [],
   "source": []
  },
  {
   "cell_type": "code",
   "execution_count": null,
   "id": "08703528-6263-42f2-aaa9-26b91e163344",
   "metadata": {},
   "outputs": [],
   "source": []
  },
  {
   "cell_type": "code",
   "execution_count": null,
   "id": "61054361-3b28-4a6f-9567-e4e6d98079e6",
   "metadata": {},
   "outputs": [],
   "source": []
  },
  {
   "cell_type": "code",
   "execution_count": null,
   "id": "6d8cd89c-fbdf-4e3b-841e-89a83ea48c7c",
   "metadata": {},
   "outputs": [],
   "source": []
  },
  {
   "cell_type": "code",
   "execution_count": null,
   "id": "83043b26-d738-4dc3-93aa-2b7d036fed0b",
   "metadata": {},
   "outputs": [],
   "source": []
  },
  {
   "cell_type": "code",
   "execution_count": null,
   "id": "5086068f-14e5-49b2-b975-86828df7791d",
   "metadata": {},
   "outputs": [],
   "source": []
  },
  {
   "cell_type": "code",
   "execution_count": null,
   "id": "e27a2abd-308a-489c-bd64-281b48274441",
   "metadata": {},
   "outputs": [],
   "source": []
  },
  {
   "cell_type": "code",
   "execution_count": null,
   "id": "511e66c2-02e0-46bc-ba38-4fa680250458",
   "metadata": {},
   "outputs": [],
   "source": []
  },
  {
   "cell_type": "code",
   "execution_count": null,
   "id": "d7ed8d4b-f83a-48a0-9c7b-3097d3340ea1",
   "metadata": {},
   "outputs": [],
   "source": []
  },
  {
   "cell_type": "code",
   "execution_count": null,
   "id": "99a54e3f-1883-4f19-a92f-94e4b1e128ad",
   "metadata": {},
   "outputs": [],
   "source": []
  },
  {
   "cell_type": "code",
   "execution_count": null,
   "id": "a6348531-02c1-4d20-958e-85110ca4789d",
   "metadata": {},
   "outputs": [],
   "source": []
  }
 ],
 "metadata": {
  "kernelspec": {
   "display_name": "Python 3 (ipykernel)",
   "language": "python",
   "name": "python3"
  },
  "language_info": {
   "codemirror_mode": {
    "name": "ipython",
    "version": 3
   },
   "file_extension": ".py",
   "mimetype": "text/x-python",
   "name": "python",
   "nbconvert_exporter": "python",
   "pygments_lexer": "ipython3",
   "version": "3.12.7"
  }
 },
 "nbformat": 4,
 "nbformat_minor": 5
}
